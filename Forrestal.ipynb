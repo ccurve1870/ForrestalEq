{
 "metadata": {
  "language_info": {
   "codemirror_mode": {
    "name": "ipython",
    "version": 3
   },
   "file_extension": ".py",
   "mimetype": "text/x-python",
   "name": "python",
   "nbconvert_exporter": "python",
   "pygments_lexer": "ipython3",
   "version": "3.7.9"
  },
  "orig_nbformat": 2,
  "kernelspec": {
   "name": "python379jvsc74a57bd0fd9ba24f3a295a5eb35c3d547b8775e76ddd3547188cc1cd81b2309f957eca06",
   "display_name": "Python 3.7.9 64-bit ('base': conda)"
  }
 },
 "nbformat": 4,
 "nbformat_minor": 2,
 "cells": [
  {
   "cell_type": "code",
   "execution_count": 1,
   "metadata": {},
   "outputs": [],
   "source": [
    "import sympy\n",
    "import numpy as np\n",
    "import matplotlib.pyplot as plt\n",
    "\n"
   ]
  },
  {
   "source": [
    "前記事までで、$\\sigma_{rr}$の具体的な形を求めることが出来ましたので、最後に侵徹体軸方向に生じる力を求めましょう。\n",
    "図に今回用いる関係を示します。\n",
    "まず、応力$\\sigma$と力$F$の間には面積$S$を用いて$\\sigma =FS$の関係があるので、角度$\\theta$での面積を求める必要があります。\n",
    "とはいえ、似たようなことは$k$の計算でもやっています。\n",
    "角度$\\theta$における球の表面積$dS$は$dS = 2\\pi rdL$ですが、$r,dL$はそれぞれ\n",
    "$$ r = s\\sin{\\theta}-\\left(s-a\\right)$$\n",
    "$$ dL = sd\\theta $$\n",
    "ですから、 \n",
    "$$dS = 2\\pi s\\left(s\\sin{\\theta}-\\left(s-a\\right)\\right) d\\theta$$ \n",
    "となります。よって、角度$\\theta$での$dFz$は\n",
    "$$dF_z = \\sigma_{rr}^z dS = 2\\pi \\sigma_{rr}s^2\\left(\\sin{\\theta}\\cos{\\theta} -\\left(\\frac{s-a}{s}\\right)\\cos{\\theta} \\right) d\\theta$$\n",
    "となります。ここで、$\\sigma_{rr}$の$z$方向成分$\\sigma_{rr}^z$は$\\sigma_{rr}\\cos{\\theta}$であることを用いています。\n",
    "また、$\\sigma_{rr}$は$V_z,\\theta$の関数$\\sigma_{rr}\\left(V_z, \\theta\\right)$です。\n",
    "あとは上式を$\\theta: \\theta_0 \\rightarrow \\pi/2$まで積分して終わりです。ここで、$\\theta_0$は$\\sin^{-1}\\left(\\frac{2\\psi-1}{2\\psi}\\right)$です。\n",
    "\n",
    "ここでは、動的Cavity expansion analysisの解について解いてみましょう。"
   ],
   "cell_type": "markdown",
   "metadata": {}
  },
  {
   "source": [
    "s,a,E,Y,rhot,Vz,theta,theta0,psi,Fz = sympy.symbols(r\"s,a,E,Y,rho_t,V_z,theta,theta_0, psi,F_z\")\n",
    "sigmarr = 2*Y/3*(1+sympy.log(2*E/3/Y))+rhot*3/2*(Vz*sympy.cos(theta))**2\n",
    "dS = 2*sympy.pi*s**2*sympy.cos(theta)*(sympy.sin(theta)-(s-a)/s)\n",
    "f = sigmarr*dS\n",
    "f = f.subs(s, 2*a*psi)\n",
    "fterm = sympy.cos(theta)**3*(sympy.sin(theta)-(2*psi-1)/2/psi)\n",
    "fcoeff = 3/2*Vz**2*rhot*a**2*8*sympy.pi*psi**2\n",
    "scoeff = 2*Y/3*(1+sympy.log(2*E/3/Y))*a**2*8*sympy.pi*psi**2\n",
    "sterm = sympy.cos(theta)*(sympy.sin(theta)-(2*psi-1)/2/psi)\n",
    "Isterm = sympy.integrate(sterm, (theta, theta0,sympy.pi/2))\n",
    "Isterm =Isterm.subs(theta0,sympy.asin((2*psi-1)/2/psi)).simplify()\n",
    "Ifterm =sympy.integrate(fterm, (theta, theta0,sympy.pi/2)).subs(theta0,sympy.asin((2*psi-1)/2/psi)).simplify()\n",
    "I = (Ifterm*fcoeff+scoeff*Isterm)\n",
    "I= I.subs(0.0625,sympy.Rational(1,16)).collect(a).collect(sympy.pi)\n",
    "sympy.Eq(Fz, I)"
   ],
   "cell_type": "code",
   "metadata": {},
   "execution_count": 2,
   "outputs": [
    {
     "output_type": "execute_result",
     "data": {
      "text/plain": [
       "Eq(F_z, pi*a**2*(V_z**2*rho_t*(8*psi - 1)/(16*psi**2) + 2*Y*(log(2*E/(3*Y)) + 1)/3))"
      ],
      "text/latex": "$\\displaystyle F_{z} = \\pi a^{2} \\left(\\frac{V_{z}^{2} \\rho_{t} \\left(8 \\psi - 1\\right)}{16 \\psi^{2}} + \\frac{2 Y \\left(\\log{\\left(\\frac{2 E}{3 Y} \\right)} + 1\\right)}{3}\\right)$"
     },
     "metadata": {},
     "execution_count": 2
    }
   ]
  },
  {
   "source": [
    "上式の形として、$F_z$を得られます。ここで、\n",
    "$$ \\frac{1}{16} = \\frac{3}{2}\\times \\frac{1}{24}$$\n",
    "$$ N = \\frac{8\\psi-1}{24\\psi^2}$$\n",
    "として、上式を置換することで、\n",
    "$$F_z = \\pi a^2\\left[ \\frac{2Y}{3}\\left(1+\\ln{\\left(\\frac{2E}{3Y}\\right)}  \\right)+ \\frac{3}{2}N\\rho_t V_z^2 \\right]$$\n",
    "として簡単な形で$F_z$が得られます。上式は動的Cavity expansion analysisについての結果ですが、静的Cavity expansion analysisの結果は第一項のみを持ってきて、\n",
    "$$F_z = \\pi a^2\\left[ \\frac{2Y}{3}\\left(1+\\ln{\\left(\\frac{2E}{3Y}\\right)}  \\right) \\right]$$\n",
    "として得られます。\n"
   ],
   "cell_type": "markdown",
   "metadata": {}
  },
  {
   "source": [
    "これで、侵徹体に掛かる力$F_z$と質量$m$を導くことができましたので、侵徹体に関する運動方程式を\n",
    "$$ m\\dot{V}_z = -F_z $$\n",
    "としておくことが出来るようになりました。ここで、$\\dot{V}_z$は$V_z$の時間微分で、侵徹体の加速度です。\n",
    "今、$m$は\n",
    "$$ m= \\pi a^2\\left(L+ka\\right)$$\n",
    "としてわかっているので、\n",
    "$$-\\left(L+ka\\right)\\dot{V_z} =  \\frac{2Y}{3}\\left(1+\\ln{\\left(\\frac{2E}{3Y}\\right)}  \\right)+ \\frac{3}{2}N\\rho_t V_z^2 = \\sigma_s + \\frac{3}{2}N\\rho_t V_z^2  $$\n",
    "と具体的な形がわかります。\n",
    "このような、\n",
    "$$ a \\dot{V}_z = b +c V_z^2 $$\n",
    "の積分は、\n",
    "$$ a\\frac{dV_z}{dt} = a \\frac{dz}{dt}\\frac{dV_z}{dz} = aV_z\\frac{dV_z}{dz} = b+cV_z^2$$\n",
    "$$ dz = \\frac{aV_z}{b+cV_z^2} dV_z$$\n",
    "$$z: 0 \\rightarrow P$$\n",
    "$$ V_z : V_0 \\rightarrow 0$$\n",
    "となり、また、$f=b+cV_z^2$とおけば、分子の$aV_z$は$\\frac{a}{2c}f^{\\prime}$であるので、\n",
    "$$ P = \\frac{a}{2c}\\ln{\\left(1+\\frac{cV_0^2}{b}\\right)}$$\n",
    "として、求められます。$a,b,c$に代入すれば、\n",
    "$$P = \\frac{L+ka}{\\sigma_s+\\frac{3}{2}N\\rho_t V_z^2}\\ln{\\left(1+ \\frac{3N\\rho_t}{2\\sigma_s}V_0^2 \\right)} $$\n",
    "となり、これが動的Cavity expansion analysisから求められる侵徹深さであり、Forrestalの式と呼ばれるものです。\n",
    "また、静的Cavity expansion analysisの結果からは、\n",
    "$$P = \\frac{L+ka}{\\sigma_s}V_z^2 $$\n",
    "が得られます。\n",
    "\n",
    "以上が低速度で最も基本的な解析モデルです。"
   ],
   "cell_type": "markdown",
   "metadata": {}
  }
 ]
}