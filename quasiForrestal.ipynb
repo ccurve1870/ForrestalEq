{
 "metadata": {
  "language_info": {
   "codemirror_mode": {
    "name": "ipython",
    "version": 3
   },
   "file_extension": ".py",
   "mimetype": "text/x-python",
   "name": "python",
   "nbconvert_exporter": "python",
   "pygments_lexer": "ipython3",
   "version": "3.7.9"
  },
  "orig_nbformat": 2,
  "kernelspec": {
   "name": "python379jvsc74a57bd0fd9ba24f3a295a5eb35c3d547b8775e76ddd3547188cc1cd81b2309f957eca06",
   "display_name": "Python 3.7.9 64-bit ('base': conda)"
  }
 },
 "nbformat": 4,
 "nbformat_minor": 2,
 "cells": [
  {
   "cell_type": "code",
   "execution_count": 11,
   "metadata": {},
   "outputs": [],
   "source": [
    "import sympy\n",
    "import numpy as np\n",
    "import matplotlib.pyplot as plt\n",
    "\n",
    "sigmarr,sigmaqq,r,u,a = sympy.symbols(r\"sigma_rr,sigma_\\theta\\theta,r,u,a\")\n"
   ]
  },
  {
   "source": [
    "図に示したように侵徹体先端付近の標的は塑性/弾性変形しています。$a \\leq r \\leq c$では標的は塑性変形しており、$c\\gt r$では弾性変形のみが生じています。侵徹体の運動を考えるためには、変形する標的の侵徹体/標的界面で作る侵徹体を押し返す力($F_z$)を求める必要があります。\n",
    "本項と次回では、単位面積あたりに動径方向に働く力、$\\sigma_{rr}$を求めてみます。次々回では、$\\sigma_{rr}$から、$z$方向に働く力$F_z$を求めます。\n",
    "\n",
    "さて、本項では、球対称な極座標系(f(r))での標的の変形を考える必要がありますが、出発点となるのは以下の2式です。\n",
    "\n",
    "$$\\frac{d}{dr}\\left[\\left(r-u\\right)^3\\right] = 3r^2$$\n",
    "$$ \\frac{d\\sigma_{rr}}{dr}+\\frac{2}{r}\\left(\\sigma_{rr}-\\sigma_{\\theta\\theta}\\right) = 0$$\n",
    "\n",
    "ここで、第1式は標的の各部分の変形前後での質量(体積)保存則、第2式は標的の各部分に成り立つ力の釣り合いの式です。\n",
    "第1式では、圧力に対して標的の体積は不変であるという、標的を非圧縮性の材料と仮定しています。\n",
    "また、$r,u,\\sigma_{rr},\\sigma_{\\theta\\theta}$はそれぞれ、侵徹体中心からの距離、$r$における変位、動径方向の応力、円周方向の応力です。\n",
    "\n",
    "また、動径方向のひずみ、円周のひずみをそれぞれ、\n",
    "\n",
    "$$ \\varepsilon_{rr} = \\ln{\\left(1-\\frac{du}{dr}\\right)} \\approx -\\frac{du}{dr}$$\n",
    "$$ \\varepsilon_{\\theta\\theta} = \\ln{\\left(1-\\frac{u}{r}\\right)} \\approx -\\frac{u}{r}$$\n",
    "\n",
    "と定義します。\n",
    "$\\sigma_{rr}$と$\\sigma_{\\theta\\theta}$、標的の降伏強度の間にはトレスカの降伏条件から、\n",
    "$$\\sigma_{rr}-\\sigma_{\\theta\\theta} = Y$$\n",
    "の関係があります。(加工硬化を仮定した形も解くことが出来るが、簡単のため、完全弾塑性体を仮定します。)\n",
    "\n",
    "さて、侵徹体/標的界面($r=a$)では、標的は$a$まで押しのけられているので$u(r=a)=a$です。\n",
    "また、$r<a$には標的はないので考える必要はありません。\n",
    "この初期条件を用いて、第1式を$r:a \\rightarrow r (r\\lt c)$まで解くと、\n",
    "$$ (r-u)^3 = r^3-a^3$$\n",
    "となるから、$u$は$r$について\n",
    "$$u=r\\left[1-\\left(1-\\frac{a^3}{r^3}\\right)^{1/3}\\right]$$\n",
    "となります。(今回は使わないのですが、一応導出しておきます。完全弾塑性でない仮定を置くと使います。)\n",
    "\n",
    "次に、$\\sigma_{rr}$を求めたいわけですが、最初に述べたように、標的は塑性変形領域と弾性変形領域に分かれています。塑性変形領域については、トレスカの条件から第2式中の$\\sigma_{rr}-\\sigma_{\\theta\\theta}$は$ Y$であることがわかっているので、直ちに解くことが出来ます。\n",
    "\n",
    "第2式に$\\sigma_{rr}-\\sigma_{\\theta\\theta}=Y$を代入して$r:a\\rightarrow c$まで積分すれば、\n",
    "$$\\frac{d\\sigma_{rr}}{dr} = \\frac 2 r Y$$\n",
    "$$\\sigma_{rr}(a) = \\sigma_{rr}(c) +2Y\\ln{\\frac{a}{c}}$$\n",
    "を得ます。\n",
    "$\\sigma_{rr}(c)$については、弾性変形領域について考えることで明らかになります。\n"
   ],
   "cell_type": "markdown",
   "metadata": {}
  },
  {
   "source": [
    "\n",
    "ということで、$r\\gt c$の弾性変形領域について考えてみます。\n",
    "弾性変形領域ではひずみが小さい(<0.2%以下)なので、常に$r \\gg u$です。ということで、第6式中の$u$の2次以上の項を無視すれば、\n",
    " \n",
    " $$ r^3-3r^2u+3ru^2-u^3 = r^3-a^3$$\n",
    " $$ -3r^2u = -a^3$$\n",
    " $$ u = \\frac{a^3}{3r^2}$$\n",
    "\n",
    "が得られます。ここで得られた$u$を第3,4式のひずみの定義(第3項)に代入すれば、\n",
    "\n",
    "$$ \\varepsilon_{rr} = -\\frac{du}{dr} = \\frac{2a^3}{3r^3}$$\n",
    "$$ \\varepsilon_{\\theta\\theta} = -\\frac u r = - \\frac{a^3}{3r^3}$$\n",
    "\n",
    "となります。さて、$\\varepsilon_{rr},\\varepsilon_{\\theta\\theta}$間のモールの応力円を考えると、最大せん断ひずみは$\\varepsilon_{rr}-\\varepsilon_{\\theta\\theta}$ですから、\n",
    "$$ \\sigma_{rr} - \\sigma_{\\theta\\theta} = 2k = 2G\\left(\\varepsilon_{rr}-\\varepsilon_{\\theta\\theta}\\right)$$\n",
    "となり、上式に$\\varepsilon_{rr},\\varepsilon_{\\theta\\theta}$を代入すると、\n",
    "$$\\sigma_{rr}-\\sigma_{\\theta\\theta} = \\frac{4Ga^3}{9r^4} = \\frac{4Ea^3}{3r^4}$$\n",
    "となります。ここで、今、標的は非圧縮性であることを仮定しているのでポアソン比$\\nu=0.5$であること、$G=\\frac{E}{2(1+\\nu)}$であることを用いています。\n",
    "これで、$\\sigma_{rr}-\\sigma_{\\theta\\theta}$を第2式を代入すると、\n",
    "$$\\frac{d\\sigma_{rr}}{dr} = -\\frac{4Ea^3}{3r^4}$$\n",
    "となり、これを$r:c\\rightarrow \\infty$について積分すると、\n",
    "$$\\sigma_{rr}(c)=\\frac{4Ea^3}{9c^3}$$\n",
    "を得ます。\n",
    "今、明らかに$\\sigma_{rr}(c) = Y$であることから、\n",
    "$$ \\left(\\frac{a}{c}\\right)^3 =  \\frac{3Y}{2E}$$\n",
    "となります。これらを、第9式に代入すると\n",
    "$$\\sigma_{rr}(a) = \\frac{4Ea^3}{9c^3}+2Y\\ln{\\frac{a}{c}} = \\frac{2Y}{3}+\\frac{2Y}{3}\\ln{\\frac{3Y}{2E}}$$\n",
    "$$ \\sigma_{rr}(a)= \\frac{2Y}{3}\\left[1+\\ln{\\frac{3Y}{2E}}\\right]$$\n",
    "が得られます。\n",
    "これが、準静的な仮定から得られる動径方向の応力です。\n",
    "この一連の導出をcavity expansion analysisと呼びます。\n",
    "\n",
    "この結果と、侵徹深さの間の関係は、また次回(次々回)"
   ],
   "cell_type": "markdown",
   "metadata": {}
  }
 ]
}